{
 "cells": [
  {
   "cell_type": "markdown",
   "metadata": {},
   "source": [
    "FIXED power tariff problem, now it is calculated monthly\n",
    "\n",
    "ADDED spot prices"
   ]
  },
  {
   "cell_type": "code",
   "execution_count": 1,
   "metadata": {},
   "outputs": [],
   "source": [
    "import pandas as pd\n",
    "import numpy as np\n",
    "import matplotlib.pyplot as plt\n",
    "import sqlite3\n",
    "import glob"
   ]
  },
  {
   "cell_type": "code",
   "execution_count": 2,
   "metadata": {},
   "outputs": [
    {
     "name": "stdout",
     "output_type": "stream",
     "text": [
      "['EVCS_15_results.db']\n"
     ]
    }
   ],
   "source": [
    "all_files = glob.glob('EVCS_15_results.db')\n",
    "print(all_files)\n",
    "\n",
    "storage = pd.DataFrame()\n",
    "\n",
    "for filename in glob.glob('EVCS_15_results.db'):\n",
    "    con = sqlite3.connect(filename)\n",
    "    \n",
    "    grid_power = pd.read_sql_query(\"SELECT * FROM var_grid_power\", con)\n",
    "    grid_extra_power = pd.read_sql_query(\"SELECT * FROM var_grid_ex_power\", con)\n",
    "    grid_total_power = pd.read_sql_query(\"SELECT * FROM var_grid_total_power\", con)\n",
    "    \n",
    "    grid_energy = pd.read_sql_query(\"SELECT * FROM var_grid_energy\", con)\n",
    "    grid_extra_energy = pd.read_sql_query(\"SELECT * FROM var_grid_ex_energy\", con)\n",
    "    \n",
    "    ESS_level = pd.read_sql_query('SELECT * FROM var_ESS_level', con)\n",
    "    ESS_power = pd.read_sql_query('SELECT * FROM var_ESS_power', con)\n",
    "    \n",
    "    SOC_pen = pd.read_sql_query('SELECT * FROM var_SOC_pen', con)\n",
    "\n",
    "    scalars = pd.read_sql_query('SELECT * FROM scalarvariables', con)\n",
    "    \n",
    "\n",
    "    \n",
    "    \n",
    "    con.close()\n",
    "\n",
    "\n",
    "# Demand\n",
    "demand = pd.read_csv('demand_analysis.tsv', sep = ',')"
   ]
  },
  {
   "cell_type": "code",
   "execution_count": 3,
   "metadata": {},
   "outputs": [
    {
     "data": {
      "text/html": [
       "<div>\n",
       "<style scoped>\n",
       "    .dataframe tbody tr th:only-of-type {\n",
       "        vertical-align: middle;\n",
       "    }\n",
       "\n",
       "    .dataframe tbody tr th {\n",
       "        vertical-align: top;\n",
       "    }\n",
       "\n",
       "    .dataframe thead th {\n",
       "        text-align: right;\n",
       "    }\n",
       "</style>\n",
       "<table border=\"1\" class=\"dataframe\">\n",
       "  <thead>\n",
       "    <tr style=\"text-align: right;\">\n",
       "      <th></th>\n",
       "      <th>name</th>\n",
       "      <th>level</th>\n",
       "      <th>lo</th>\n",
       "      <th>up</th>\n",
       "      <th>marginal</th>\n",
       "    </tr>\n",
       "  </thead>\n",
       "  <tbody>\n",
       "    <tr>\n",
       "      <th>0</th>\n",
       "      <td>var_ess_rated_power</td>\n",
       "      <td>173.968750</td>\n",
       "      <td>0.000000e+00</td>\n",
       "      <td>1.000000e+100</td>\n",
       "      <td>0.0</td>\n",
       "    </tr>\n",
       "    <tr>\n",
       "      <th>1</th>\n",
       "      <td>var_grid_maxpower1</td>\n",
       "      <td>222.591250</td>\n",
       "      <td>0.000000e+00</td>\n",
       "      <td>1.000000e+100</td>\n",
       "      <td>0.0</td>\n",
       "    </tr>\n",
       "    <tr>\n",
       "      <th>2</th>\n",
       "      <td>var_grid_maxpower2</td>\n",
       "      <td>264.807500</td>\n",
       "      <td>0.000000e+00</td>\n",
       "      <td>1.000000e+100</td>\n",
       "      <td>0.0</td>\n",
       "    </tr>\n",
       "    <tr>\n",
       "      <th>3</th>\n",
       "      <td>var_grid_maxpower3</td>\n",
       "      <td>180.000000</td>\n",
       "      <td>0.000000e+00</td>\n",
       "      <td>1.000000e+100</td>\n",
       "      <td>0.0</td>\n",
       "    </tr>\n",
       "    <tr>\n",
       "      <th>4</th>\n",
       "      <td>var_grid_maxpower4</td>\n",
       "      <td>225.501250</td>\n",
       "      <td>0.000000e+00</td>\n",
       "      <td>1.000000e+100</td>\n",
       "      <td>0.0</td>\n",
       "    </tr>\n",
       "    <tr>\n",
       "      <th>5</th>\n",
       "      <td>var_ESS_cost</td>\n",
       "      <td>30618.500000</td>\n",
       "      <td>0.000000e+00</td>\n",
       "      <td>1.000000e+100</td>\n",
       "      <td>0.0</td>\n",
       "    </tr>\n",
       "    <tr>\n",
       "      <th>6</th>\n",
       "      <td>var_electricity_cost</td>\n",
       "      <td>141094.161756</td>\n",
       "      <td>0.000000e+00</td>\n",
       "      <td>1.000000e+100</td>\n",
       "      <td>0.0</td>\n",
       "    </tr>\n",
       "    <tr>\n",
       "      <th>7</th>\n",
       "      <td>var_grid_tariff_winter</td>\n",
       "      <td>70553.808901</td>\n",
       "      <td>0.000000e+00</td>\n",
       "      <td>1.000000e+100</td>\n",
       "      <td>0.0</td>\n",
       "    </tr>\n",
       "    <tr>\n",
       "      <th>8</th>\n",
       "      <td>var_energy_tax</td>\n",
       "      <td>3602.265477</td>\n",
       "      <td>0.000000e+00</td>\n",
       "      <td>1.000000e+100</td>\n",
       "      <td>0.0</td>\n",
       "    </tr>\n",
       "    <tr>\n",
       "      <th>9</th>\n",
       "      <td>months</td>\n",
       "      <td>4.283482</td>\n",
       "      <td>0.000000e+00</td>\n",
       "      <td>1.000000e+100</td>\n",
       "      <td>0.0</td>\n",
       "    </tr>\n",
       "    <tr>\n",
       "      <th>10</th>\n",
       "      <td>var_system_cost</td>\n",
       "      <td>250226.077156</td>\n",
       "      <td>-1.000000e+100</td>\n",
       "      <td>1.000000e+100</td>\n",
       "      <td>0.0</td>\n",
       "    </tr>\n",
       "    <tr>\n",
       "      <th>11</th>\n",
       "      <td>var_ESS_size</td>\n",
       "      <td>139.175000</td>\n",
       "      <td>-1.000000e+100</td>\n",
       "      <td>1.000000e+100</td>\n",
       "      <td>0.0</td>\n",
       "    </tr>\n",
       "  </tbody>\n",
       "</table>\n",
       "</div>"
      ],
      "text/plain": [
       "                      name          level             lo             up  \\\n",
       "0      var_ess_rated_power     173.968750   0.000000e+00  1.000000e+100   \n",
       "1       var_grid_maxpower1     222.591250   0.000000e+00  1.000000e+100   \n",
       "2       var_grid_maxpower2     264.807500   0.000000e+00  1.000000e+100   \n",
       "3       var_grid_maxpower3     180.000000   0.000000e+00  1.000000e+100   \n",
       "4       var_grid_maxpower4     225.501250   0.000000e+00  1.000000e+100   \n",
       "5             var_ESS_cost   30618.500000   0.000000e+00  1.000000e+100   \n",
       "6     var_electricity_cost  141094.161756   0.000000e+00  1.000000e+100   \n",
       "7   var_grid_tariff_winter   70553.808901   0.000000e+00  1.000000e+100   \n",
       "8           var_energy_tax    3602.265477   0.000000e+00  1.000000e+100   \n",
       "9                   months       4.283482   0.000000e+00  1.000000e+100   \n",
       "10         var_system_cost  250226.077156 -1.000000e+100  1.000000e+100   \n",
       "11            var_ESS_size     139.175000 -1.000000e+100  1.000000e+100   \n",
       "\n",
       "    marginal  \n",
       "0        0.0  \n",
       "1        0.0  \n",
       "2        0.0  \n",
       "3        0.0  \n",
       "4        0.0  \n",
       "5        0.0  \n",
       "6        0.0  \n",
       "7        0.0  \n",
       "8        0.0  \n",
       "9        0.0  \n",
       "10       0.0  \n",
       "11       0.0  "
      ]
     },
     "execution_count": 3,
     "metadata": {},
     "output_type": "execute_result"
    }
   ],
   "source": [
    "scalars\n"
   ]
  },
  {
   "cell_type": "code",
   "execution_count": 4,
   "metadata": {},
   "outputs": [
    {
     "name": "stdout",
     "output_type": "stream",
     "text": [
      "180.0\n",
      "42.59125000000003\n"
     ]
    }
   ],
   "source": [
    "print(max(grid_power['level'].iloc[0:8634]))\n",
    "print(max(grid_extra_power['level'].iloc[0:8634]))"
   ]
  },
  {
   "cell_type": "code",
   "execution_count": 5,
   "metadata": {},
   "outputs": [
    {
     "name": "stdout",
     "output_type": "stream",
     "text": [
      "180.0\n",
      "84.80750000000012\n"
     ]
    }
   ],
   "source": [
    "print(max(grid_power['level'].iloc[8635:17269]))\n",
    "print(max(grid_extra_power['level'].iloc[8635:17269]))"
   ]
  },
  {
   "cell_type": "code",
   "execution_count": 6,
   "metadata": {},
   "outputs": [
    {
     "name": "stdout",
     "output_type": "stream",
     "text": [
      "180.0\n",
      "0.0\n"
     ]
    }
   ],
   "source": [
    "print(max(grid_power['level'].iloc[17270:25903]))\n",
    "print(max(grid_extra_power['level'].iloc[17270:25903]))"
   ]
  },
  {
   "cell_type": "code",
   "execution_count": 7,
   "metadata": {},
   "outputs": [
    {
     "name": "stdout",
     "output_type": "stream",
     "text": [
      "180.0\n",
      "45.501250000000056\n"
     ]
    }
   ],
   "source": [
    "print(max(grid_power['level'].iloc[25904:34541]))\n",
    "print(max(grid_extra_power['level'].iloc[25904:34541]))"
   ]
  },
  {
   "cell_type": "code",
   "execution_count": 8,
   "metadata": {},
   "outputs": [],
   "source": [
    "battery_1 = ESS_power['level']"
   ]
  },
  {
   "cell_type": "code",
   "execution_count": 9,
   "metadata": {},
   "outputs": [],
   "source": [
    "discharge_1 = []\n",
    "charge_1 = []\n",
    "discharge_2 = []\n",
    "charge_2 = []\n",
    "\n",
    "for i in range(len(battery_1)):\n",
    "    if battery_1[i] < 0:\n",
    "        charge_1.append(battery_1[i])\n",
    "    elif battery_1[i] > 0:\n",
    "        discharge_1.append(battery_1[i])\n",
    "        "
   ]
  },
  {
   "cell_type": "code",
   "execution_count": 10,
   "metadata": {},
   "outputs": [
    {
     "data": {
      "text/plain": [
       "Text(0.5, 0, 'ESS Discharge Power [kW]')"
      ]
     },
     "execution_count": 10,
     "metadata": {},
     "output_type": "execute_result"
    },
    {
     "data": {
      "image/png": "[encoded data removed]",
      "text/plain": [
       "<Figure size 720x360 with 1 Axes>"
      ]
     },
     "metadata": {
      "needs_background": "light"
     },
     "output_type": "display_data"
    }
   ],
   "source": [
    "a = [round(num,0) for num in discharge_1]\n",
    "from collections import Counter\n",
    "aa = Counter(a)\n",
    "aa = dict(aa)\n",
    "names = list(aa.keys())\n",
    "times = list(aa.values())\n",
    "\n",
    "plt.figure(figsize = (10,5))\n",
    "plt.bar(names, times)\n",
    "plt.title('ESS Discharge Distribution')\n",
    "plt.ylabel('Occurances')\n",
    "plt.xlabel('ESS Discharge Power [kW]')"
   ]
  },
  {
   "cell_type": "code",
   "execution_count": 11,
   "metadata": {},
   "outputs": [
    {
     "data": {
      "text/plain": [
       "[<matplotlib.lines.Line2D at 0x148b5dadfa0>]"
      ]
     },
     "execution_count": 11,
     "metadata": {},
     "output_type": "execute_result"
    },
    {
     "data": {
      "image/png": "[encoded data removed]",
      "text/plain": [
       "<Figure size 432x288 with 1 Axes>"
      ]
     },
     "metadata": {
      "needs_background": "light"
     },
     "output_type": "display_data"
    }
   ],
   "source": [
    "plt.plot(ESS_level['level'].iloc[1152:1440])"
   ]
  },
  {
   "cell_type": "code",
   "execution_count": 12,
   "metadata": {},
   "outputs": [
    {
     "name": "stdout",
     "output_type": "stream",
     "text": [
      "138.54426914749786\n",
      "139.17499999999998\n",
      "0    139.175\n",
      "dtype: float64\n",
      "27.834999999999997\n"
     ]
    }
   ],
   "source": [
    "import stat\n",
    "\n",
    "print(ESS_level['level'].mean())\n",
    "print(ESS_level['level'].median())\n",
    "print(ESS_level['level'].mode())\n",
    "print(ESS_level['level'].min())"
   ]
  },
  {
   "cell_type": "code",
   "execution_count": 13,
   "metadata": {},
   "outputs": [],
   "source": [
    "b = ESS_level['level']\n",
    "\n",
    "a = [round(num,0) for num in b]\n",
    "from collections import Counter\n",
    "aa = Counter(a)\n",
    "aa = dict(aa)\n",
    "names = list(aa.keys())\n",
    "times = list(aa.values())"
   ]
  },
  {
   "cell_type": "code",
   "execution_count": 14,
   "metadata": {},
   "outputs": [
    {
     "data": {
      "text/plain": [
       "Text(0.5, 0, 'ESS SoC [kWh]')"
      ]
     },
     "execution_count": 14,
     "metadata": {},
     "output_type": "execute_result"
    },
    {
     "data": {
      "image/png": "[encoded data removed]",
      "text/plain": [
       "<Figure size 720x360 with 1 Axes>"
      ]
     },
     "metadata": {
      "needs_background": "light"
     },
     "output_type": "display_data"
    }
   ],
   "source": [
    "plt.figure(figsize = (10,5))\n",
    "plt.bar(names, times)\n",
    "plt.title('ESS SoC Distribution')\n",
    "plt.ylabel('Occurances')\n",
    "plt.xlabel('ESS SoC [kWh]')"
   ]
  },
  {
   "cell_type": "code",
   "execution_count": 25,
   "metadata": {},
   "outputs": [
    {
     "data": {
      "text/html": [
       "<div>\n",
       "<style scoped>\n",
       "    .dataframe tbody tr th:only-of-type {\n",
       "        vertical-align: middle;\n",
       "    }\n",
       "\n",
       "    .dataframe tbody tr th {\n",
       "        vertical-align: top;\n",
       "    }\n",
       "\n",
       "    .dataframe thead th {\n",
       "        text-align: right;\n",
       "    }\n",
       "</style>\n",
       "<table border=\"1\" class=\"dataframe\">\n",
       "  <thead>\n",
       "    <tr style=\"text-align: right;\">\n",
       "      <th></th>\n",
       "      <th>DateTime</th>\n",
       "      <th>C3</th>\n",
       "      <th>C4</th>\n",
       "      <th>C5</th>\n",
       "      <th>C6</th>\n",
       "      <th>C7</th>\n",
       "      <th>C8</th>\n",
       "      <th>C1</th>\n",
       "      <th>C2</th>\n",
       "      <th>All</th>\n",
       "    </tr>\n",
       "  </thead>\n",
       "  <tbody>\n",
       "    <tr>\n",
       "      <th>0</th>\n",
       "      <td>2021-11-01 00:00:00</td>\n",
       "      <td>0.0</td>\n",
       "      <td>0.0</td>\n",
       "      <td>0</td>\n",
       "      <td>0</td>\n",
       "      <td>0</td>\n",
       "      <td>0</td>\n",
       "      <td>0.0</td>\n",
       "      <td>0.0</td>\n",
       "      <td>0.0</td>\n",
       "    </tr>\n",
       "    <tr>\n",
       "      <th>1</th>\n",
       "      <td>2021-11-01 00:05:00</td>\n",
       "      <td>0.0</td>\n",
       "      <td>0.0</td>\n",
       "      <td>0</td>\n",
       "      <td>0</td>\n",
       "      <td>0</td>\n",
       "      <td>0</td>\n",
       "      <td>0.0</td>\n",
       "      <td>0.0</td>\n",
       "      <td>0.0</td>\n",
       "    </tr>\n",
       "    <tr>\n",
       "      <th>2</th>\n",
       "      <td>2021-11-01 00:10:00</td>\n",
       "      <td>0.0</td>\n",
       "      <td>0.0</td>\n",
       "      <td>0</td>\n",
       "      <td>0</td>\n",
       "      <td>0</td>\n",
       "      <td>0</td>\n",
       "      <td>0.0</td>\n",
       "      <td>0.0</td>\n",
       "      <td>0.0</td>\n",
       "    </tr>\n",
       "    <tr>\n",
       "      <th>3</th>\n",
       "      <td>2021-11-01 00:15:00</td>\n",
       "      <td>0.0</td>\n",
       "      <td>0.0</td>\n",
       "      <td>0</td>\n",
       "      <td>0</td>\n",
       "      <td>0</td>\n",
       "      <td>0</td>\n",
       "      <td>0.0</td>\n",
       "      <td>0.0</td>\n",
       "      <td>0.0</td>\n",
       "    </tr>\n",
       "    <tr>\n",
       "      <th>4</th>\n",
       "      <td>2021-11-01 00:20:00</td>\n",
       "      <td>0.0</td>\n",
       "      <td>0.0</td>\n",
       "      <td>0</td>\n",
       "      <td>0</td>\n",
       "      <td>0</td>\n",
       "      <td>0</td>\n",
       "      <td>0.0</td>\n",
       "      <td>0.0</td>\n",
       "      <td>0.0</td>\n",
       "    </tr>\n",
       "    <tr>\n",
       "      <th>...</th>\n",
       "      <td>...</td>\n",
       "      <td>...</td>\n",
       "      <td>...</td>\n",
       "      <td>...</td>\n",
       "      <td>...</td>\n",
       "      <td>...</td>\n",
       "      <td>...</td>\n",
       "      <td>...</td>\n",
       "      <td>...</td>\n",
       "      <td>...</td>\n",
       "    </tr>\n",
       "    <tr>\n",
       "      <th>34537</th>\n",
       "      <td>2022-02-28 23:35:00</td>\n",
       "      <td>0.0</td>\n",
       "      <td>0.0</td>\n",
       "      <td>0</td>\n",
       "      <td>0</td>\n",
       "      <td>0</td>\n",
       "      <td>0</td>\n",
       "      <td>0.0</td>\n",
       "      <td>0.0</td>\n",
       "      <td>0.0</td>\n",
       "    </tr>\n",
       "    <tr>\n",
       "      <th>34538</th>\n",
       "      <td>2022-02-28 23:40:00</td>\n",
       "      <td>0.0</td>\n",
       "      <td>0.0</td>\n",
       "      <td>0</td>\n",
       "      <td>0</td>\n",
       "      <td>0</td>\n",
       "      <td>0</td>\n",
       "      <td>0.0</td>\n",
       "      <td>0.0</td>\n",
       "      <td>0.0</td>\n",
       "    </tr>\n",
       "    <tr>\n",
       "      <th>34539</th>\n",
       "      <td>2022-02-28 23:45:00</td>\n",
       "      <td>0.0</td>\n",
       "      <td>0.0</td>\n",
       "      <td>0</td>\n",
       "      <td>0</td>\n",
       "      <td>0</td>\n",
       "      <td>0</td>\n",
       "      <td>0.0</td>\n",
       "      <td>0.0</td>\n",
       "      <td>0.0</td>\n",
       "    </tr>\n",
       "    <tr>\n",
       "      <th>34540</th>\n",
       "      <td>2022-02-28 23:50:00</td>\n",
       "      <td>0.0</td>\n",
       "      <td>0.0</td>\n",
       "      <td>0</td>\n",
       "      <td>0</td>\n",
       "      <td>0</td>\n",
       "      <td>0</td>\n",
       "      <td>0.0</td>\n",
       "      <td>0.0</td>\n",
       "      <td>0.0</td>\n",
       "    </tr>\n",
       "    <tr>\n",
       "      <th>34541</th>\n",
       "      <td>2022-02-28 23:55:00</td>\n",
       "      <td>0.0</td>\n",
       "      <td>0.0</td>\n",
       "      <td>0</td>\n",
       "      <td>0</td>\n",
       "      <td>0</td>\n",
       "      <td>0</td>\n",
       "      <td>0.0</td>\n",
       "      <td>0.0</td>\n",
       "      <td>0.0</td>\n",
       "    </tr>\n",
       "  </tbody>\n",
       "</table>\n",
       "<p>34542 rows × 10 columns</p>\n",
       "</div>"
      ],
      "text/plain": [
       "                  DateTime   C3   C4  C5  C6  C7  C8   C1   C2  All\n",
       "0      2021-11-01 00:00:00  0.0  0.0   0   0   0   0  0.0  0.0  0.0\n",
       "1      2021-11-01 00:05:00  0.0  0.0   0   0   0   0  0.0  0.0  0.0\n",
       "2      2021-11-01 00:10:00  0.0  0.0   0   0   0   0  0.0  0.0  0.0\n",
       "3      2021-11-01 00:15:00  0.0  0.0   0   0   0   0  0.0  0.0  0.0\n",
       "4      2021-11-01 00:20:00  0.0  0.0   0   0   0   0  0.0  0.0  0.0\n",
       "...                    ...  ...  ...  ..  ..  ..  ..  ...  ...  ...\n",
       "34537  2022-02-28 23:35:00  0.0  0.0   0   0   0   0  0.0  0.0  0.0\n",
       "34538  2022-02-28 23:40:00  0.0  0.0   0   0   0   0  0.0  0.0  0.0\n",
       "34539  2022-02-28 23:45:00  0.0  0.0   0   0   0   0  0.0  0.0  0.0\n",
       "34540  2022-02-28 23:50:00  0.0  0.0   0   0   0   0  0.0  0.0  0.0\n",
       "34541  2022-02-28 23:55:00  0.0  0.0   0   0   0   0  0.0  0.0  0.0\n",
       "\n",
       "[34542 rows x 10 columns]"
      ]
     },
     "execution_count": 25,
     "metadata": {},
     "output_type": "execute_result"
    }
   ],
   "source": [
    "demand = pd.read_csv('demand_analysis.tsv', sep = ',')\n",
    "demand['All'] = demand['C1'] + demand['C2'] + demand['C3'] + demand['C4'] + demand['C5'] + demand['C6'] + demand['C7'] + demand['C8']\n",
    "demand\n"
   ]
  },
  {
   "cell_type": "code",
   "execution_count": 26,
   "metadata": {},
   "outputs": [
    {
     "ename": "NameError",
     "evalue": "name 'SOC' is not defined",
     "output_type": "error",
     "traceback": [
      "\u001b[1;31m---------------------------------------------------------------------------\u001b[0m",
      "\u001b[1;31mNameError\u001b[0m                                 Traceback (most recent call last)",
      "\u001b[1;32m<ipython-input-26-f6fedb246476>\u001b[0m in \u001b[0;36m<module>\u001b[1;34m\u001b[0m\n\u001b[0;32m      8\u001b[0m \u001b[0mdf\u001b[0m\u001b[1;33m[\u001b[0m\u001b[1;34m'ESS Level kWh'\u001b[0m\u001b[1;33m]\u001b[0m\u001b[1;33m=\u001b[0m \u001b[0mESS_level\u001b[0m\u001b[1;33m[\u001b[0m\u001b[1;34m'level'\u001b[0m\u001b[1;33m]\u001b[0m\u001b[1;33m\u001b[0m\u001b[1;33m\u001b[0m\u001b[0m\n\u001b[0;32m      9\u001b[0m \u001b[0mdf\u001b[0m\u001b[1;33m[\u001b[0m\u001b[1;34m'ESS Power kW'\u001b[0m\u001b[1;33m]\u001b[0m \u001b[1;33m=\u001b[0m \u001b[0mESS_power\u001b[0m\u001b[1;33m[\u001b[0m\u001b[1;34m'level'\u001b[0m\u001b[1;33m]\u001b[0m\u001b[1;33m\u001b[0m\u001b[1;33m\u001b[0m\u001b[0m\n\u001b[1;32m---> 10\u001b[1;33m \u001b[0mdf\u001b[0m\u001b[1;33m[\u001b[0m\u001b[1;34m'ESS SOC %'\u001b[0m\u001b[1;33m]\u001b[0m \u001b[1;33m=\u001b[0m \u001b[0mnp\u001b[0m\u001b[1;33m.\u001b[0m\u001b[0marray\u001b[0m\u001b[1;33m(\u001b[0m\u001b[0mSOC\u001b[0m\u001b[1;33m)\u001b[0m\u001b[1;33m\u001b[0m\u001b[1;33m\u001b[0m\u001b[0m\n\u001b[0m\u001b[0;32m     11\u001b[0m \u001b[0mdf\u001b[0m\u001b[1;33m[\u001b[0m\u001b[1;34m'Demand kW'\u001b[0m\u001b[1;33m]\u001b[0m \u001b[1;33m=\u001b[0m \u001b[0mdem\u001b[0m\u001b[1;33m\u001b[0m\u001b[1;33m\u001b[0m\u001b[0m\n\u001b[0;32m     12\u001b[0m \u001b[1;31m#df.set_index('DateTime')\u001b[0m\u001b[1;33m\u001b[0m\u001b[1;33m\u001b[0m\u001b[1;33m\u001b[0m\u001b[0m\n",
      "\u001b[1;31mNameError\u001b[0m: name 'SOC' is not defined"
     ]
    }
   ],
   "source": [
    "df = pd.DataFrame()\n",
    "df['DateTime'] = pd.to_datetime(demand['DateTime'])\n",
    "df['Grid Power kW'] = grid_power['level']\n",
    "df['Grid Extra Power kW'] = grid_extra_power['level']\n",
    "df['Total Grid Power kW'] = grid_total_power['level']\n",
    "df['Grid Energy kWh'] = grid_energy['level']\n",
    "df['Grid Extra Energy kWh'] = grid_extra_energy['level']\n",
    "df['ESS Level kWh']= ESS_level['level']\n",
    "df['ESS Power kW'] = ESS_power['level']\n",
    "df['ESS SOC %'] = np.array(SOC)\n",
    "df['Demand kW'] = dem\n",
    "#df.set_index('DateTime')\n",
    "df"
   ]
  },
  {
   "cell_type": "code",
   "execution_count": null,
   "metadata": {},
   "outputs": [],
   "source": []
  }
 ],
 "metadata": {
  "kernelspec": {
   "display_name": "Python 3",
   "language": "python",
   "name": "python3"
  },
  "language_info": {
   "codemirror_mode": {
    "name": "ipython",
    "version": 3
   },
   "file_extension": ".py",
   "mimetype": "text/x-python",
   "name": "python",
   "nbconvert_exporter": "python",
   "pygments_lexer": "ipython3",
   "version": "3.8.5"
  }
 },
 "nbformat": 4,
 "nbformat_minor": 4
}

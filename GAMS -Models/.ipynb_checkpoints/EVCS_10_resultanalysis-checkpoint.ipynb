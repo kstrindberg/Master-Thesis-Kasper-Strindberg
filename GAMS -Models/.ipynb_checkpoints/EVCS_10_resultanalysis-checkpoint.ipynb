{
 "cells": [
  {
   "cell_type": "code",
   "execution_count": 1,
   "metadata": {},
   "outputs": [],
   "source": [
    "# In this model i have implemented most of the grid tariff costs.\n",
    "# Im trying to figure out how to do the power fee\n",
    "# Furthermore i should calculate annuitised costs of battery"
   ]
  },
  {
   "cell_type": "code",
   "execution_count": 2,
   "metadata": {},
   "outputs": [],
   "source": [
    "import pandas as pd\n",
    "import numpy as np\n",
    "import matplotlib.pyplot as plt\n",
    "import sqlite3\n",
    "import glob"
   ]
  },
  {
   "cell_type": "code",
   "execution_count": null,
   "metadata": {},
   "outputs": [],
   "source": [
    "all_files = glob.glob('EVCS_10_results.db')\n",
    "\n",
    "storage = pd.DataFrame()\n",
    "\n",
    "for filename in glob.glob('EVCS_910results.db'):\n",
    "    con = sqlite3.connect(filename)\n",
    "    grid_power = pd.read_sql_query(\"SELECT * FROM var_grid_power\", con)\n",
    "    grid_energy = pd.read_sql_query(\"SELECT * FROM var_grid_energy\", con)\n",
    "    ESS_level = pd.read_sql_query('SELECT * FROM var_ESS_level', con)\n",
    "    charging = pd.read_sql_query('SELECT * FROM var_grid2ess_power', con)\n",
    "    discharging = pd.read_sql_query('SELECT * FROM var_ess2load_power', con)\n",
    "    grid2load = pd.read_sql_query('SELECT * FROM var_grid2load_power', con)\n",
    "    \n",
    "    \n",
    "    con.close()"
   ]
  }
 ],
 "metadata": {
  "kernelspec": {
   "display_name": "Python 3",
   "language": "python",
   "name": "python3"
  },
  "language_info": {
   "codemirror_mode": {
    "name": "ipython",
    "version": 3
   },
   "file_extension": ".py",
   "mimetype": "text/x-python",
   "name": "python",
   "nbconvert_exporter": "python",
   "pygments_lexer": "ipython3",
   "version": "3.8.5"
  }
 },
 "nbformat": 4,
 "nbformat_minor": 4
}

{
 "cells": [
  {
   "cell_type": "code",
   "execution_count": 2,
   "metadata": {},
   "outputs": [],
   "source": [
    "import pandas as pd\n",
    "import numpy as np\n",
    "import matplotlib.pyplot as plt\n",
    "import sqlite3\n",
    "import glob\n",
    "import subprocess\n",
    "import math"
   ]
  },
  {
   "cell_type": "code",
   "execution_count": 3,
   "metadata": {},
   "outputs": [],
   "source": [
    "all_files = glob.glob('EVCS_15_E*.db')"
   ]
  },
  {
   "cell_type": "code",
   "execution_count": 8,
   "metadata": {},
   "outputs": [],
   "source": [
    "#Extract result data from all result databases and create dataframes for each variable\n",
    "\n",
    "grid_p = pd.DataFrame()\n",
    "grid_ex_p = pd.DataFrame()\n",
    "grid_tot_p = pd.DataFrame()\n",
    "\n",
    "soc_pen = pd.DataFrame()\n",
    "\n",
    "grid_e = pd.DataFrame()\n",
    "grid_ex_e = pd.DataFrame()\n",
    "\n",
    "ESS_lvl = pd.DataFrame()\n",
    "ESS_p = pd.DataFrame()\n",
    "\n",
    "sclrs = pd.DataFrame()\n",
    "\n",
    "for filename in glob.glob('EVCS_15_E*.db'):\n",
    "    con = sqlite3.connect(filename)\n",
    "    \n",
    "    grid_power = pd.read_sql_query(\"SELECT * FROM var_grid_power\", con)\n",
    "    grid_extra_power = pd.read_sql_query(\"SELECT * FROM var_grid_ex_power\", con)\n",
    "    grid_total_power = pd.read_sql_query(\"SELECT * FROM var_grid_total_power\", con)\n",
    "    \n",
    "    grid_energy = pd.read_sql_query(\"SELECT * FROM var_grid_energy\", con)\n",
    "    grid_extra_energy = pd.read_sql_query(\"SELECT * FROM var_grid_ex_energy\", con)\n",
    "    \n",
    "    ESS_level = pd.read_sql_query('SELECT * FROM var_ESS_level', con)\n",
    "    ESS_power = pd.read_sql_query('SELECT * FROM var_ESS_power', con)\n",
    "    \n",
    "    scalars =  pd.read_sql_query('SELECT * FROM scalarvariables', con)\n",
    "    \n",
    "    soc_penalty = pd.read_sql_query('SELECT * FROM var_SOC_pen', con)\n",
    "    \n",
    "    con.close()\n",
    "    \n",
    "    grid_p[filename[10:-11]] = grid_power['level'].copy()\n",
    "    grid_ex_p[filename[10:-11]] = grid_extra_power['level'].copy()\n",
    "    grid_tot_p[filename[10:-11]] = grid_total_power['level'].copy()\n",
    "    \n",
    "    grid_e[filename[10:-11]] = grid_energy['level'].copy()\n",
    "    grid_ex_e[filename[10:-11]] = grid_extra_energy['level'].copy() \n",
    "    \n",
    "    ESS_lvl[filename[10:-11]] = ESS_level['level'].copy()\n",
    "    ESS_p[filename[10:-11]] = ESS_power['level'].copy()  \n",
    "    \n",
    "    sclrs[filename[10:-11]] = scalars['level'].copy()\n",
    "    \n",
    "    soc_pen[filename[10:-11]] = soc_penalty['level'].copy()\n"
   ]
  },
  {
   "cell_type": "code",
   "execution_count": 9,
   "metadata": {},
   "outputs": [
    {
     "data": {
      "text/html": [
       "<div>\n",
       "<style scoped>\n",
       "    .dataframe tbody tr th:only-of-type {\n",
       "        vertical-align: middle;\n",
       "    }\n",
       "\n",
       "    .dataframe tbody tr th {\n",
       "        vertical-align: top;\n",
       "    }\n",
       "\n",
       "    .dataframe thead th {\n",
       "        text-align: right;\n",
       "    }\n",
       "</style>\n",
       "<table border=\"1\" class=\"dataframe\">\n",
       "  <thead>\n",
       "    <tr style=\"text-align: right;\">\n",
       "      <th></th>\n",
       "      <th>OG</th>\n",
       "    </tr>\n",
       "  </thead>\n",
       "  <tbody>\n",
       "    <tr>\n",
       "      <th>0</th>\n",
       "      <td>0.0</td>\n",
       "    </tr>\n",
       "    <tr>\n",
       "      <th>1</th>\n",
       "      <td>0.0</td>\n",
       "    </tr>\n",
       "    <tr>\n",
       "      <th>2</th>\n",
       "      <td>0.0</td>\n",
       "    </tr>\n",
       "    <tr>\n",
       "      <th>3</th>\n",
       "      <td>0.0</td>\n",
       "    </tr>\n",
       "    <tr>\n",
       "      <th>4</th>\n",
       "      <td>0.0</td>\n",
       "    </tr>\n",
       "    <tr>\n",
       "      <th>...</th>\n",
       "      <td>...</td>\n",
       "    </tr>\n",
       "    <tr>\n",
       "      <th>34537</th>\n",
       "      <td>0.0</td>\n",
       "    </tr>\n",
       "    <tr>\n",
       "      <th>34538</th>\n",
       "      <td>0.0</td>\n",
       "    </tr>\n",
       "    <tr>\n",
       "      <th>34539</th>\n",
       "      <td>0.0</td>\n",
       "    </tr>\n",
       "    <tr>\n",
       "      <th>34540</th>\n",
       "      <td>0.0</td>\n",
       "    </tr>\n",
       "    <tr>\n",
       "      <th>34541</th>\n",
       "      <td>0.0</td>\n",
       "    </tr>\n",
       "  </tbody>\n",
       "</table>\n",
       "<p>34542 rows × 1 columns</p>\n",
       "</div>"
      ],
      "text/plain": [
       "        OG\n",
       "0      0.0\n",
       "1      0.0\n",
       "2      0.0\n",
       "3      0.0\n",
       "4      0.0\n",
       "...    ...\n",
       "34537  0.0\n",
       "34538  0.0\n",
       "34539  0.0\n",
       "34540  0.0\n",
       "34541  0.0\n",
       "\n",
       "[34542 rows x 1 columns]"
      ]
     },
     "execution_count": 9,
     "metadata": {},
     "output_type": "execute_result"
    }
   ],
   "source": [
    "ESS_p"
   ]
  },
  {
   "cell_type": "code",
   "execution_count": 11,
   "metadata": {
    "scrolled": true
   },
   "outputs": [],
   "source": [
    "battery_1 = ESS_p['OG']"
   ]
  },
  {
   "cell_type": "code",
   "execution_count": 12,
   "metadata": {},
   "outputs": [],
   "source": [
    "discharge_1 = []\n",
    "charge_1 = []\n",
    "discharge_2 = []\n",
    "charge_2 = []\n",
    "\n",
    "for i in range(len(battery_1)):\n",
    "    if battery_1[i] < 0:\n",
    "        charge_1.append(battery_1[i])\n",
    "    elif battery_1[i] > 0:\n",
    "        discharge_1.append(battery_1[i])\n",
    "        \n",
    "        \n",
    "        "
   ]
  },
  {
   "cell_type": "code",
   "execution_count": 35,
   "metadata": {},
   "outputs": [],
   "source": [
    "discharge_1.sort(reverse = True)"
   ]
  },
  {
   "cell_type": "code",
   "execution_count": 13,
   "metadata": {},
   "outputs": [
    {
     "data": {
      "text/plain": [
       "Text(0.5, 0, 'ESS Discharge Power [kW]')"
      ]
     },
     "execution_count": 13,
     "metadata": {},
     "output_type": "execute_result"
    },
    {
     "data": {
      "image/png": "[encoded data removed]",
      "text/plain": [
       "<Figure size 720x360 with 1 Axes>"
      ]
     },
     "metadata": {
      "needs_background": "light"
     },
     "output_type": "display_data"
    }
   ],
   "source": [
    "a = [round(num,0) for num in discharge_1]\n",
    "from collections import Counter\n",
    "aa = Counter(a)\n",
    "aa = dict(aa)\n",
    "names = list(aa.keys())\n",
    "times = list(aa.values())\n",
    "\n",
    "plt.figure(figsize = (10,5))\n",
    "plt.bar(names, times)\n",
    "plt.title('ESS Discharge Distribution (M1)')\n",
    "plt.ylabel('Occurances')\n",
    "plt.xlabel('ESS Discharge Power [kW]')"
   ]
  },
  {
   "cell_type": "code",
   "execution_count": 69,
   "metadata": {},
   "outputs": [
    {
     "data": {
      "text/plain": [
       "Text(0.5, 0, 'ESS Discharge Power [kW]')"
      ]
     },
     "execution_count": 69,
     "metadata": {},
     "output_type": "execute_result"
    },
    {
     "data": {
      "image/png": "[encoded data removed]",
      "text/plain": [
       "<Figure size 720x360 with 1 Axes>"
      ]
     },
     "metadata": {
      "needs_background": "light"
     },
     "output_type": "display_data"
    }
   ],
   "source": [
    "b = [round(num,0) for num in discharge_2]\n",
    "from collections import Counter\n",
    "bb = Counter(b)\n",
    "bb = dict(bb)\n",
    "names = list(bb.keys())\n",
    "times = list(bb.values())\n",
    "\n",
    "plt.figure(figsize = (10,5))\n",
    "plt.bar(names, times, color = 'g')\n",
    "plt.title('ESS Discharge Distribution')\n",
    "plt.ylabel('Occurances')\n",
    "plt.xlabel('ESS Discharge Power [kW]')"
   ]
  },
  {
   "cell_type": "code",
   "execution_count": null,
   "metadata": {},
   "outputs": [],
   "source": []
  }
 ],
 "metadata": {
  "kernelspec": {
   "display_name": "Python 3",
   "language": "python",
   "name": "python3"
  },
  "language_info": {
   "codemirror_mode": {
    "name": "ipython",
    "version": 3
   },
   "file_extension": ".py",
   "mimetype": "text/x-python",
   "name": "python",
   "nbconvert_exporter": "python",
   "pygments_lexer": "ipython3",
   "version": "3.8.5"
  }
 },
 "nbformat": 4,
 "nbformat_minor": 4
}
